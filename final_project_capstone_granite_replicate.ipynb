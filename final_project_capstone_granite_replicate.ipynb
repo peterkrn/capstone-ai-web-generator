{
  "cells": [
    {
      "cell_type": "markdown",
      "source": [
        "# **Company Profile Website AI Generator**\n",
        "## with LLM Model \"IBM Granite Instruct\" using Replicate Platform\n",
        "\n",
        "### **A Capstone project for IBM SkillsBuild: Code Generation and Optimization Using IBM Granite, collaborating with Hacktiv8 Indonesia**\n",
        "\n",
        "## Created by:\n",
        "### Peter Kurniawan Oktavianus\n",
        "### https://www.linkedin.com/in/peter-kurniawan/"
      ],
      "metadata": {
        "id": "RDkk7pEgg2M4"
      }
    },
    {
      "cell_type": "markdown",
      "source": [
        "##Install Library dan Replicate Authentication"
      ],
      "metadata": {
        "id": "2lp4IFaoZsPy"
      }
    },
    {
      "cell_type": "code",
      "source": [
        "!pip install -U replicate"
      ],
      "metadata": {
        "id": "VTDBy8rHZo63",
        "colab": {
          "base_uri": "https://localhost:8080/"
        },
        "outputId": "75c5a5a7-4a15-4bf4-8798-76511086c054"
      },
      "execution_count": 16,
      "outputs": [
        {
          "output_type": "stream",
          "name": "stdout",
          "text": [
            "Requirement already satisfied: replicate in /usr/local/lib/python3.11/dist-packages (1.0.7)\n",
            "Requirement already satisfied: httpx<1,>=0.21.0 in /usr/local/lib/python3.11/dist-packages (from replicate) (0.28.1)\n",
            "Requirement already satisfied: packaging in /usr/local/lib/python3.11/dist-packages (from replicate) (24.2)\n",
            "Requirement already satisfied: pydantic>1.10.7 in /usr/local/lib/python3.11/dist-packages (from replicate) (2.11.7)\n",
            "Requirement already satisfied: typing_extensions>=4.5.0 in /usr/local/lib/python3.11/dist-packages (from replicate) (4.14.0)\n",
            "Requirement already satisfied: anyio in /usr/local/lib/python3.11/dist-packages (from httpx<1,>=0.21.0->replicate) (4.9.0)\n",
            "Requirement already satisfied: certifi in /usr/local/lib/python3.11/dist-packages (from httpx<1,>=0.21.0->replicate) (2025.6.15)\n",
            "Requirement already satisfied: httpcore==1.* in /usr/local/lib/python3.11/dist-packages (from httpx<1,>=0.21.0->replicate) (1.0.9)\n",
            "Requirement already satisfied: idna in /usr/local/lib/python3.11/dist-packages (from httpx<1,>=0.21.0->replicate) (3.10)\n",
            "Requirement already satisfied: h11>=0.16 in /usr/local/lib/python3.11/dist-packages (from httpcore==1.*->httpx<1,>=0.21.0->replicate) (0.16.0)\n",
            "Requirement already satisfied: annotated-types>=0.6.0 in /usr/local/lib/python3.11/dist-packages (from pydantic>1.10.7->replicate) (0.7.0)\n",
            "Requirement already satisfied: pydantic-core==2.33.2 in /usr/local/lib/python3.11/dist-packages (from pydantic>1.10.7->replicate) (2.33.2)\n",
            "Requirement already satisfied: typing-inspection>=0.4.0 in /usr/local/lib/python3.11/dist-packages (from pydantic>1.10.7->replicate) (0.4.1)\n",
            "Requirement already satisfied: sniffio>=1.1 in /usr/local/lib/python3.11/dist-packages (from anyio->httpx<1,>=0.21.0->replicate) (1.3.1)\n"
          ]
        }
      ]
    },
    {
      "cell_type": "code",
      "source": [
        "import os\n",
        "from getpass import getpass\n",
        "import replicate\n",
        "from google.colab import userdata\n",
        "\n",
        "# load replicate API Token dari google colab\n",
        "os.environ[\"REPLICATE_API_TOKEN\"] = userdata.get('REPLICATE_API_TOKEN')\n",
        "\n",
        "# jika mau input API Token sendiri, bisa uncomment code ini\n",
        "# os.environ[\"REPLICATE_API_TOKEN\"] = input(\"Enter your Replicate API token: \")"
      ],
      "metadata": {
        "id": "_LogSMZ1Z3vU"
      },
      "execution_count": 17,
      "outputs": []
    },
    {
      "cell_type": "markdown",
      "source": [
        "## Inisialisasi model untuk Replicate Model Wrapper"
      ],
      "metadata": {
        "id": "EfuFR-jgaTrq"
      }
    },
    {
      "cell_type": "code",
      "source": [
        "class ReplicateModelWrapper:\n",
        "    def __init__(self, model_name, **default_input):\n",
        "        self.model_name = model_name\n",
        "        self.default_input = default_input\n",
        "\n",
        "    def invoke(self, prompt: str) -> str:\n",
        "        input_args = self.default_input.copy()\n",
        "        input_args[\"prompt\"] = prompt\n",
        "        output = replicate.run(self.model_name, input=input_args)\n",
        "        # Handle potential FileOutput objects in the output list\n",
        "        processed_output = []\n",
        "        for item in output:\n",
        "            if hasattr(item, 'url'): # Check if it's a FileOutput object (or similar)\n",
        "                processed_output.append(item.url) # Append the URL or relevant attribute\n",
        "            else:\n",
        "                processed_output.append(str(item)) # Convert other items to string\n",
        "        return \"\".join(processed_output)\n",
        "\n",
        "\n",
        "# Model Parameter Tuning\n",
        "\n",
        "# Model Granite Code Instruct with 8 Billion Parameters\n",
        "model = ReplicateModelWrapper(\n",
        "    \"ibm-granite/granite-8b-code-instruct-128k\",\n",
        "    max_tokens=2000,\n",
        "    temperature=0.2,\n",
        "    top_p=1.0,\n",
        "    top_k=1,\n",
        "    presence_penalty=0,\n",
        "    frequency_penalty=0,\n",
        "    stop_sequences=\"</html>\", #Karena output berupa HTML Code, maka diakhir tag </html>\n",
        ")"
      ],
      "metadata": {
        "id": "eU357BzkAZxs"
      },
      "execution_count": 18,
      "outputs": []
    },
    {
      "cell_type": "markdown",
      "source": [
        "###One Shot Prompt Example"
      ],
      "metadata": {
        "id": "DidVce8zdHY7"
      }
    },
    {
      "cell_type": "code",
      "execution_count": 19,
      "metadata": {
        "id": "COeNum93DB-2"
      },
      "outputs": [],
      "source": [
        "example = {\n",
        "    \"question\": \"Create a professional company profile landing page with modern design\",\n",
        "    \"context\": \"Build a complete HTML page for a technology company with header, hero section, services, stats, and footer. Return only the complete HTML file including all CSS and JavaScript, starting with <!DOCTYPE html> and ending with </html>.\",\n",
        "    \"output\": \"\"\"\n",
        "      <!DOCTYPE html>\n",
        "        <html lang=\"en\">\n",
        "          <head>\n",
        "          <meta charset=\"UTF-8\"/>\n",
        "          <title>TechCorp</title>\n",
        "          <style>*{margin:0;padding:0}html,body{width:100%;height:100%;font-family:sans-serif;text-align:center;margin:0;padding:0}body{display:flex;flex-direction:column;min-height:100vh}header{background:#667eea;color:#fff;padding:20px;display:flex;justify-content:space-between;align-items:center;font-size:24px}a{color:#fff;text-decoration:none;margin:0 10px;font-size:20px}.hero{background:#764ba2;color:#fff;padding:120px 20px;height:80px;display:flex;flex-direction:column;justify-content:center}.hero h1{font-size:48px;margin-bottom:15px}.hero p{font-size:22px;margin-bottom:20px}button{background:#ff6b6b;color:#fff;border:none;padding:15px 30px;margin-top:15px;border-radius:6px;font-size:18px;cursor:pointer}.svc{background:#f8f9fa;padding:80px 20px;height:100px;display:flex;justify-content:center;align-items:center;flex-direction:column;flex:1}.svc h2{font-size:36px;margin-bottom:40px}.card{display:inline-block;background:#fff;padding:30px;margin:15px;border-radius:8px;box-shadow:0 2px 6px #ccc;width:140px;font-size:18px}.stats{background:#333;color:#fff;padding:40px;height:20vh;display:flex;justify-content:center;align-items:center}.st{display:inline-block;color:#ff6b6b;margin:0 25px;font-size:24px;text-align:center}.st .number{font-size:32px;font-weight:bold;display:block;margin-bottom:5px}footer{background:#222;color:#fff;padding:20px;font-size:16px;display:flex;justify-content:center;align-items:center}</style>\n",
        "          </head>\n",
        "          <body>\n",
        "          <header>\n",
        "            <b>TechCorp</b>\n",
        "            <nav>\n",
        "              <a href=\"#\">Home</a>\n",
        "              <a href=\"#\">Services</a>\n",
        "              <a href=\"#\">About</a>\n",
        "              <a href=\"#\">Contact</a>\n",
        "            </nav>\n",
        "          </header>\n",
        "          <div class=\"hero\">\n",
        "            <h1>Transform Digitally</h1>\n",
        "            <p>Innovative solutions.</p>\n",
        "            <button>Explore</button>\n",
        "          </div>\n",
        "          <div class=\"svc\">\n",
        "            <h2>Services</h2>\n",
        "            <div>\n",
        "              <div class=\"card\">💻<br/>Web</div>\n",
        "              <div class=\"card\">📱<br/>Apps</div>\n",
        "              <div class=\"card\">☁️<br/>Cloud</div>\n",
        "            </div>\n",
        "          </div>\n",
        "          <div class=\"stats\">\n",
        "            <div class=\"st\"><span class=\"number\">150</span>Projects</div>\n",
        "            <div class=\"st\"><span class=\"number\">50</span>Clients</div>\n",
        "            <div class=\"st\"><span class=\"number\">5</span>Years</div>\n",
        "          </div>\n",
        "          <footer>©2024 TechCorp</footer>\n",
        "          </body>\n",
        "        </html>\n",
        "\"\"\"\n",
        "}"
      ]
    },
    {
      "cell_type": "markdown",
      "source": [
        "## Function untuk format One Shot Prompt\n",
        "### dengan parameter context, question, company info, dan example dari input user"
      ],
      "metadata": {
        "id": "QUzu7usbdNdr"
      }
    },
    {
      "cell_type": "code",
      "execution_count": 20,
      "metadata": {
        "id": "3t-3ohq1YhiK"
      },
      "outputs": [],
      "source": [
        "def oneshot_prompt(context, question, company_info, example):\n",
        "    \"\"\"\n",
        "    Creates a one-shot prompt for the model, using a single example to guide output generation.\n",
        "\n",
        "    Parameters:\n",
        "    - context: str, contextual information for the prompt\n",
        "    - question: str, specific question or task for the model to perform\n",
        "    - company_info: dict, company information to include in the output\n",
        "    - example: dict, single example containing 'question', 'context', and 'output' as keys\n",
        "    Returns:\n",
        "    - str, the formatted one-shot prompt\n",
        "    \"\"\"\n",
        "\n",
        "    # Format company information\n",
        "    company_details = f\"Company: {company_info.get('name')}, Industry: {company_info.get('industry')}\"\n",
        "\n",
        "    # Format the example for the prompt\n",
        "    formatted_example = f\"\"\"\n",
        "    Example:\n",
        "    User Question: {example['question']}\n",
        "    Context: {example['context']}\n",
        "    Model Output: {example['output']}\n",
        "    \"\"\"\n",
        "\n",
        "    # Construct the one-shot prompt\n",
        "    prompt = f\"\"\"\n",
        "    You are an experienced web developer with 15 years of experience creating modern, responsive websites.\n",
        "    Your task is to generate complete HTML pages with embedded CSS and JavaScript\n",
        "    based on the provided context and user question.\n",
        "\n",
        "    Here is an example of a similar task you have completed successfully:\n",
        "    {formatted_example}\n",
        "\n",
        "    Now, using this example as a reference, generate code for the following task:\n",
        "\n",
        "    Context: {context}\n",
        "    User Question: {question}\n",
        "    Company Information: {company_details}\n",
        "\n",
        "    INSTRUCTIONS:\n",
        "    - Output ONLY the complete HTML code for the page.\n",
        "    - Do NOT include any explanation, comments, or text before or after the code.\n",
        "    - You may change colors, but use a palette that matches the style/theme of the provided example.\n",
        "    - Do NOT remove any main sections shown in the example.\n",
        "    - The output must start with <!DOCTYPE html> and end with </html>.\n",
        "    - All CSS and JavaScript must be embedded in the HTML.\n",
        "    \"\"\"\n",
        "    return prompt\n"
      ]
    },
    {
      "cell_type": "markdown",
      "source": [
        "## Function untuk generate AI model response\n",
        "### berdasarkan One Shot Prompt yang sudah diformat"
      ],
      "metadata": {
        "id": "q9ELlbVhdb8c"
      }
    },
    {
      "cell_type": "code",
      "execution_count": 21,
      "metadata": {
        "id": "_HdEKhuZYq9y"
      },
      "outputs": [],
      "source": [
        "def get_answer_using_oneshot(context, question, company_info, example):\n",
        "    \"\"\"\n",
        "    Generates the response from the model based on a one-shot prompt.\n",
        "\n",
        "    Parameters:\n",
        "    - context: str, contextual information for the prompt\n",
        "    - question: str, specific question for the model to answer\n",
        "    - company_info: dict, company information to include in the output\n",
        "    - example: dict, single example to guide the model\n",
        "\n",
        "    Returns:\n",
        "    - str, the generated result complete HTML file including all CSS and JavaScript, starting with <!DOCTYPE html> and ending with </html>.\n",
        "    \"\"\"\n",
        "    prompt = oneshot_prompt(context, question, company_info, example)\n",
        "    result = model.invoke(prompt)\n",
        "\n",
        "    return result"
      ]
    },
    {
      "cell_type": "markdown",
      "source": [
        "## Contoh penggunaan AI Model IBM Granite dengan One-Shot Prompting\n",
        "### **Bagian ini customizable. Bisa diganti-ganti website company profile apa yang mau dibuat sesuai keinginan user.**"
      ],
      "metadata": {
        "id": "JOgWyMg_d_gW"
      }
    },
    {
      "cell_type": "code",
      "execution_count": 58,
      "metadata": {
        "id": "zh5Dy7F34MQy",
        "colab": {
          "base_uri": "https://localhost:8080/"
        },
        "outputId": "2e8c2bd9-5d51-491a-c622-4cb1130a5269"
      },
      "outputs": [
        {
          "output_type": "stream",
          "name": "stdout",
          "text": [
            "Generated HTML Code:\n",
            "<!DOCTYPE html>\n",
            "<html lang=\"en\">\n",
            " <head>\n",
            "  <meta charset=\"UTF-8\"/>\n",
            "  <title>Hacktiv8</title>\n",
            "  <style>*{margin:0;padding:0}html,body{width:100%;height:100%;font-family:sans-serif;text-align:center;margin:0;padding:0}body{display:flex;flex-direction:column;min-height:100vh}header{background:#008080;color:#fff;padding:20px;display:flex;justify-content:space-between;align-items:center;font-size:24px}a{color:#fff;text-decoration:none;margin:0 10px;font-size:20px}.hero{background:#008080;color:#fff;padding:120px 20px;height:80px;display:flex;flex-direction:column;justify-content:center}.hero h1{font-size:48px;margin-bottom:15px}.hero p{font-size:22px;margin-bottom:20px}button{background:#ff6b6b;color:#fff;border:none;padding:15px 30px;margin-top:15px;border-radius:6px;font-size:18px;cursor:pointer}.svc{background:#f8f9fa;padding:80px 20px;height:100px;display:flex;justify-content:center;align-items:center;flex-direction:column;flex:1}.svc h2{font-size:36px;margin-bottom:40px}.card{display:inline-block;background:#fff;padding:30px;margin:15px;border-radius:8px;box-shadow:0 2px 6px #ccc;width:140px;font-size:18px}.stats{background:#333;color:#fff;padding:40px;height:20vh;display:flex;justify-content:center;align-items:center}.st{display:inline-block;color:#ff6b6b;margin:0 25px;font-size:24px;text-align:center}.st .number{font-size:32px;font-weight:bold;display:block;margin-bottom:5px}footer{background:#222;color:#fff;padding:20px;font-size:16px;display:flex;justify-content:center;align-items:center}</style>\n",
            " </head>\n",
            " <body>\n",
            "  <header>\n",
            "   <b>Hacktiv8</b>\n",
            "   <nav>\n",
            "    <a href=\"#\">Home</a>\n",
            "    <a href=\"#\">Services</a>\n",
            "    <a href=\"#\">About</a>\n",
            "    <a href=\"#\">Contact</a>\n",
            "   </nav>\n",
            "  </header>\n",
            "  <div class=\"hero\">\n",
            "   <h1>Indonesia's Finest Coding Bootcamp</h1>\n",
            "   <p>Transform Your Skills Today!</p>\n",
            "   <button>Enroll Now</button>\n",
            "  </div>\n",
            "  <div class=\"svc\">\n",
            "   <h2>Services</h2>\n",
            "   <div>\n",
            "    <div class=\"card\">💻<br/>Fullstack Engineer</div>\n",
            "    <div class=\"card\">📱<br/>iOS/Android Developer</div>\n",
            "    <div class=\"card\">☁️<br/>DevOps Engineer</div>\n",
            "   </div>\n",
            "  </div>\n",
            "  <div class=\"stats\">\n",
            "   <div class=\"st\"><span class=\"number\">500</span>Students</div>\n",
            "   <div class=\"st\"><span class=\"number\">5</span>Cities</div>\n",
            "   <div class=\"st\"><span class=\"number\">5</span>Years</div>\n",
            "  </div>\n",
            "  <footer>©2024 Hacktiv8</footer>\n",
            " </body>\n",
            "</html\n"
          ]
        }
      ],
      "source": [
        "# Example usage\n",
        "context = \"Create a professional company profile landing page with modern design\"\n",
        "question = \"Build a complete HTML page for a coding bootcamp company with header (Indonesia's Finest Coding Bootcamp), hero section, services (Fullstack Engineer, iOS/Android Developer, DevOps Engineer), stats (Students, Cities, Years), and footer sections. The stats section must be present, just like in the example. You may change colors, but use a palette that matches the style/theme of the company info. Do NOT remove any main sections shown in the example.\"\n",
        "company_info = {\"name\": \"Hacktiv8\", \"industry\": \"Coding Bootcamp\"}\n",
        "# Generate and display the HTML code for the landing page\n",
        "code_generation_result = get_answer_using_oneshot(context, question, company_info, example)\n",
        "print(f\"Generated HTML Code:\\n{code_generation_result}\")"
      ]
    },
    {
      "cell_type": "markdown",
      "source": [
        "#### Count Tokens Code HTML yang sudah digenerate"
      ],
      "metadata": {
        "id": "oJx1UgeheXlm"
      }
    },
    {
      "cell_type": "code",
      "source": [
        "!pip install tiktoken"
      ],
      "metadata": {
        "colab": {
          "base_uri": "https://localhost:8080/"
        },
        "id": "kO0K5jAQCZeb",
        "outputId": "b20a33d7-4064-4725-fbdd-73ead881098e"
      },
      "execution_count": 59,
      "outputs": [
        {
          "output_type": "stream",
          "name": "stdout",
          "text": [
            "Requirement already satisfied: tiktoken in /usr/local/lib/python3.11/dist-packages (0.9.0)\n",
            "Requirement already satisfied: regex>=2022.1.18 in /usr/local/lib/python3.11/dist-packages (from tiktoken) (2024.11.6)\n",
            "Requirement already satisfied: requests>=2.26.0 in /usr/local/lib/python3.11/dist-packages (from tiktoken) (2.32.3)\n",
            "Requirement already satisfied: charset-normalizer<4,>=2 in /usr/local/lib/python3.11/dist-packages (from requests>=2.26.0->tiktoken) (3.4.2)\n",
            "Requirement already satisfied: idna<4,>=2.5 in /usr/local/lib/python3.11/dist-packages (from requests>=2.26.0->tiktoken) (3.10)\n",
            "Requirement already satisfied: urllib3<3,>=1.21.1 in /usr/local/lib/python3.11/dist-packages (from requests>=2.26.0->tiktoken) (2.4.0)\n",
            "Requirement already satisfied: certifi>=2017.4.17 in /usr/local/lib/python3.11/dist-packages (from requests>=2.26.0->tiktoken) (2025.6.15)\n"
          ]
        }
      ]
    },
    {
      "cell_type": "code",
      "source": [
        "import tiktoken\n",
        "\n",
        "encoding = tiktoken.get_encoding(\"cl100k_base\")\n",
        "print(\"Token count:\", len(encoding.encode(code_generation_result)))"
      ],
      "metadata": {
        "id": "ixvoE_Q9egSi",
        "colab": {
          "base_uri": "https://localhost:8080/"
        },
        "outputId": "48b3a752-ceee-4844-a4cc-6901b8c45c8c"
      },
      "execution_count": 60,
      "outputs": [
        {
          "output_type": "stream",
          "name": "stdout",
          "text": [
            "Token count: 735\n"
          ]
        }
      ]
    },
    {
      "cell_type": "markdown",
      "source": [
        "## Tampilkan Hasil Website yang sudah digenerate IBM Granite"
      ],
      "metadata": {
        "id": "4C6W1W6SeiRG"
      }
    },
    {
      "cell_type": "code",
      "execution_count": 61,
      "metadata": {
        "id": "rt0iBJzKDnek",
        "colab": {
          "base_uri": "https://localhost:8080/",
          "height": 991
        },
        "outputId": "906b1061-ec63-4b91-c1ff-593672970e92"
      },
      "outputs": [
        {
          "output_type": "display_data",
          "data": {
            "text/plain": [
              "<IPython.core.display.HTML object>"
            ],
            "text/html": [
              "<!DOCTYPE html>\n",
              "<html lang=\"en\">\n",
              " <head>\n",
              "  <meta charset=\"UTF-8\"/>\n",
              "  <title>Hacktiv8</title>\n",
              "  <style>*{margin:0;padding:0}html,body{width:100%;height:100%;font-family:sans-serif;text-align:center;margin:0;padding:0}body{display:flex;flex-direction:column;min-height:100vh}header{background:#008080;color:#fff;padding:20px;display:flex;justify-content:space-between;align-items:center;font-size:24px}a{color:#fff;text-decoration:none;margin:0 10px;font-size:20px}.hero{background:#008080;color:#fff;padding:120px 20px;height:80px;display:flex;flex-direction:column;justify-content:center}.hero h1{font-size:48px;margin-bottom:15px}.hero p{font-size:22px;margin-bottom:20px}button{background:#ff6b6b;color:#fff;border:none;padding:15px 30px;margin-top:15px;border-radius:6px;font-size:18px;cursor:pointer}.svc{background:#f8f9fa;padding:80px 20px;height:100px;display:flex;justify-content:center;align-items:center;flex-direction:column;flex:1}.svc h2{font-size:36px;margin-bottom:40px}.card{display:inline-block;background:#fff;padding:30px;margin:15px;border-radius:8px;box-shadow:0 2px 6px #ccc;width:140px;font-size:18px}.stats{background:#333;color:#fff;padding:40px;height:20vh;display:flex;justify-content:center;align-items:center}.st{display:inline-block;color:#ff6b6b;margin:0 25px;font-size:24px;text-align:center}.st .number{font-size:32px;font-weight:bold;display:block;margin-bottom:5px}footer{background:#222;color:#fff;padding:20px;font-size:16px;display:flex;justify-content:center;align-items:center}</style>\n",
              " </head>\n",
              " <body>\n",
              "  <header>\n",
              "   <b>Hacktiv8</b>\n",
              "   <nav>\n",
              "    <a href=\"#\">Home</a>\n",
              "    <a href=\"#\">Services</a>\n",
              "    <a href=\"#\">About</a>\n",
              "    <a href=\"#\">Contact</a>\n",
              "   </nav>\n",
              "  </header>\n",
              "  <div class=\"hero\">\n",
              "   <h1>Indonesia's Finest Coding Bootcamp</h1>\n",
              "   <p>Transform Your Skills Today!</p>\n",
              "   <button>Enroll Now</button>\n",
              "  </div>\n",
              "  <div class=\"svc\">\n",
              "   <h2>Services</h2>\n",
              "   <div>\n",
              "    <div class=\"card\">💻<br/>Fullstack Engineer</div>\n",
              "    <div class=\"card\">📱<br/>iOS/Android Developer</div>\n",
              "    <div class=\"card\">☁️<br/>DevOps Engineer</div>\n",
              "   </div>\n",
              "  </div>\n",
              "  <div class=\"stats\">\n",
              "   <div class=\"st\"><span class=\"number\">500</span>Students</div>\n",
              "   <div class=\"st\"><span class=\"number\">5</span>Cities</div>\n",
              "   <div class=\"st\"><span class=\"number\">5</span>Years</div>\n",
              "  </div>\n",
              "  <footer>©2024 Hacktiv8</footer>\n",
              " </body>\n",
              "</html"
            ]
          },
          "metadata": {}
        }
      ],
      "source": [
        "from IPython.display import HTML, display\n",
        "\n",
        "display(HTML(code_generation_result))"
      ]
    },
    {
      "cell_type": "markdown",
      "source": [
        "###One Shot Prompt Refined Example\n",
        "#### Merupakan Example HTML yang sudah ditingkatkan fiturnya agar stats pada bagian bawah website bisa ada animasi perubahan angka."
      ],
      "metadata": {
        "id": "Ct60xnZQewhO"
      }
    },
    {
      "cell_type": "code",
      "execution_count": 62,
      "metadata": {
        "id": "0yzEBU_nv4vE"
      },
      "outputs": [],
      "source": [
        "refinement_example = {\n",
        "    \"question\": \"Enhance the stats section to have animated counters that increase when the section comes into view\",\n",
        "    \"context\": \"Add intersection observer and counter animation to make numbers count up from 0 to their target values with smooth animation\",\n",
        "    \"output\": \"\"\"\n",
        "    // update div tags with data-target:\n",
        "            <div class=\"stats\">\n",
        "              <div class=\"st\"><span class=\"number\" data-target=\"150\">0</span>Projects</div>\n",
        "              <div class=\"st\"><span class=\"number\" data-target=\"50\">0</span>Clients</div>\n",
        "              <div class=\"st\"><span class=\"number\" data-target=\"5\">0</span>Years</div>\n",
        "            </div>\n",
        "\n",
        "    //update script to add function animateCounter(element):\n",
        "        <script>\n",
        "            function animateCounter(element) {\n",
        "                const target = parseInt(element.getAttribute('data-target'));\n",
        "                const increment = target / 50;\n",
        "                let current = 0;\n",
        "\n",
        "                const updateCounter = () => {\n",
        "                    if (current < target) {\n",
        "                        current += increment;\n",
        "                        element.textContent = Math.ceil(current);\n",
        "                        requestAnimationFrame(updateCounter);\n",
        "                    } else {\n",
        "                        element.textContent = target;\n",
        "                    }\n",
        "                };\n",
        "\n",
        "                updateCounter();\n",
        "            }\n",
        "\n",
        "            const statNumbers = document.querySelectorAll('.number');\n",
        "            const countObserver = new IntersectionObserver((entries) => {\n",
        "                entries.forEach((entry) => {\n",
        "                    if (entry.isIntersecting) {\n",
        "                        animateCounter(entry.target);\n",
        "                        countObserver.unobserve(entry.target);\n",
        "                    }\n",
        "                });\n",
        "            }, {threshold: 0.5});\n",
        "\n",
        "            statNumbers.forEach((stat) => {\n",
        "                countObserver.observe(stat);\n",
        "            });\n",
        "        </script>\n",
        "    \"\"\"\n",
        "}"
      ]
    },
    {
      "cell_type": "markdown",
      "source": [
        "## Function untuk format Refined One Shot Prompt\n",
        "### dengan parameter previous HTML otuput, context, question, dan example (dari contoh refined prompt sebelumnya)."
      ],
      "metadata": {
        "id": "Oc5kAFDtfJXg"
      }
    },
    {
      "cell_type": "code",
      "execution_count": 63,
      "metadata": {
        "id": "c9MPWu7PuaUG"
      },
      "outputs": [],
      "source": [
        "def refine_output_with_oneshot(previous_output, context, question, example):\n",
        "    \"\"\"\n",
        "    Refines a previously generated output by applying additional user-requested changes\n",
        "    using a one-shot prompt technique.\n",
        "\n",
        "    Parameters:\n",
        "    - previous_output: str, the HTML code generated from the initial prompt.\n",
        "    - context: str, the context for the refinement task.\n",
        "    - question: str, the user-requested changes to be applied.\n",
        "    - example: dict, single example of similar refinement for one-shot learning.\n",
        "\n",
        "    Returns:\n",
        "    - str, the refined HTML code generated by the model.\n",
        "    \"\"\"\n",
        "\n",
        "    # Format the example for the prompt\n",
        "    formatted_refinement_example = f\"\"\"\n",
        "    Example:\n",
        "    User Question: {refinement_example['question']}\n",
        "    Context: {refinement_example['context']}\n",
        "    Model Output: {refinement_example['output']}\n",
        "    \"\"\"\n",
        "\n",
        "    prompt = f\"\"\"\n",
        "    You are an experienced web developer with 15 years of experience creating modern, responsive websites.\n",
        "    Your task is to enhance existing HTML code by applying additional styling and functionality changes\n",
        "    based on the provided context and user question.\n",
        "\n",
        "    Here is an example of a similar refinement task you have completed successfully:\n",
        "    {formatted_refinement_example}\n",
        "\n",
        "    Now, I have an existing HTML page that needs enhancement. Please refine the following HTML code based on the additional requirements:\n",
        "\n",
        "    Current HTML Code:\n",
        "    {code_generation_result}\n",
        "\n",
        "    Context: {context}\n",
        "    User Question: {question}\n",
        "\n",
        "    INSTRUCTIONS:\n",
        "    Output ONLY the complete HTML code for the page.\n",
        "    - Do NOT include any explanation, comments, or text before or after the code.\n",
        "    - You may change colors, but use a palette that matches the style/theme of the provided example.\n",
        "    - Do NOT remove any main sections shown in the example.\n",
        "    - The output must start with <!DOCTYPE html> and end with </html>.\n",
        "    - All CSS and JavaScript must be embedded in the HTML.\n",
        "    - All existing functionality is preserved\n",
        "    - New features are seamlessly integrated\n",
        "    \"\"\"\n",
        "\n",
        "    # Use the model to generate the refined code\n",
        "    result = model.invoke(prompt)\n",
        "    return result"
      ]
    },
    {
      "cell_type": "markdown",
      "source": [
        "## Contoh penggunaan Refined One-Shot Prompting dengan IBM Granite\n",
        "### ***Bagian ini customizable. Bisa diganti-ganti website company profile apa yang mau dibuat sesuai keinginan user.***"
      ],
      "metadata": {
        "id": "2twTDhHvgMlk"
      }
    },
    {
      "cell_type": "code",
      "source": [
        "# Example usage\n",
        "context = \"Enhanced User Interaction with Animated Statistics\"\n",
        "question = \"Enhance the stats section to have animated counters that increase when the section comes into view, similar to the example provided. Return only the complete HTML file including all CSS and JavaScript, starting with <!DOCTYPE html> and ending with </html>.\"\n",
        "# Generate and display the refined HTML code\n",
        "code_generation_refined_result = refine_output_with_oneshot(code_generation_result, context, question, refinement_example)\n",
        "print(f\"Refined HTML Code:\\n{code_generation_refined_result}\")"
      ],
      "metadata": {
        "colab": {
          "base_uri": "https://localhost:8080/"
        },
        "id": "Ls9ra4_Xc9XF",
        "outputId": "648347b8-85d8-4ddb-b337-85afc85b589a"
      },
      "execution_count": 64,
      "outputs": [
        {
          "output_type": "stream",
          "name": "stdout",
          "text": [
            "Refined HTML Code:\n",
            "<!DOCTYPE html>\n",
            "<html lang=\"en\">\n",
            " <head>\n",
            "  <meta charset=\"UTF-8\"/>\n",
            "  <title>Hacktiv8</title>\n",
            "  <style>*{margin:0;padding:0}html,body{width:100%;height:100%;font-family:sans-serif;text-align:center;margin:0;padding:0}body{display:flex;flex-direction:column;min-height:100vh}header{background:#008080;color:#fff;padding:20px;display:flex;justify-content:space-between;align-items:center;font-size:24px}a{color:#fff;text-decoration:none;margin:0 10px;font-size:20px}.hero{background:#008080;color:#fff;padding:120px 20px;height:80px;display:flex;flex-direction:column;justify-content:center}.hero h1{font-size:48px;margin-bottom:15px}.hero p{font-size:22px;margin-bottom:20px}button{background:#ff6b6b;color:#fff;border:none;padding:15px 30px;margin-top:15px;border-radius:6px;font-size:18px;cursor:pointer}.svc{background:#f8f9fa;padding:80px 20px;height:100px;display:flex;justify-content:center;align-items:center;flex-direction:column;flex:1}.svc h2{font-size:36px;margin-bottom:40px}.card{display:inline-block;background:#fff;padding:30px;margin:15px;border-radius:8px;box-shadow:0 2px 6px #ccc;width:140px;font-size:18px}.stats{background:#333;color:#fff;padding:40px;height:20vh;display:flex;justify-content:center;align-items:center}.st{display:inline-block;color:#ff6b6b;margin:0 25px;font-size:24px;text-align:center}.st .number{font-size:32px;font-weight:bold;display:block;margin-bottom:5px}footer{background:#222;color:#fff;padding:20px;font-size:16px;display:flex;justify-content:center;align-items:center}</style>\n",
            " </head>\n",
            " <body>\n",
            "  <header>\n",
            "   <b>Hacktiv8</b>\n",
            "   <nav>\n",
            "    <a href=\"#\">Home</a>\n",
            "    <a href=\"#\">Services</a>\n",
            "    <a href=\"#\">About</a>\n",
            "    <a href=\"#\">Contact</a>\n",
            "   </nav>\n",
            "  </header>\n",
            "  <div class=\"hero\">\n",
            "   <h1>Indonesia's Finest Coding Bootcamp</h1>\n",
            "   <p>Transform Your Skills Today!</p>\n",
            "   <button>Enroll Now</button>\n",
            "  </div>\n",
            "  <div class=\"svc\">\n",
            "   <h2>Services</h2>\n",
            "   <div>\n",
            "    <div class=\"card\">💻<br/>Fullstack Engineer</div>\n",
            "    <div class=\"card\">📱<br/>iOS/Android Developer</div>\n",
            "    <div class=\"card\">☁️<br/>DevOps Engineer</div>\n",
            "   </div>\n",
            "  </div>\n",
            "  <div class=\"stats\">\n",
            "   <div class=\"st\"><span class=\"number\" data-target=\"500\">0</span>Students</div>\n",
            "   <div class=\"st\"><span class=\"number\" data-target=\"5\">0</span>Cities</div>\n",
            "   <div class=\"st\"><span class=\"number\" data-target=\"5\">0</span>Years</div>\n",
            "  </div>\n",
            "  <footer>©2024 Hacktiv8</footer>\n",
            "  <script>\n",
            "   const statNumbers = document.querySelectorAll('.number');\n",
            "   const countObserver = new IntersectionObserver((entries) => {\n",
            "    entries.forEach((entry) => {\n",
            "     if (entry.isIntersecting) {\n",
            "      const target = parseInt(entry.target.getAttribute('data-target'));\n",
            "      const increment = target / 50;\n",
            "      let current = 0;\n",
            "\n",
            "      const updateCounter = () => {\n",
            "       if (current < target) {\n",
            "        current += increment;\n",
            "        entry.target.textContent = Math.ceil(current);\n",
            "        requestAnimationFrame(updateCounter);\n",
            "       } else {\n",
            "        entry.target.textContent = target;\n",
            "       }\n",
            "      };\n",
            "\n",
            "      updateCounter();\n",
            "      countObserver.unobserve(entry.target);\n",
            "     }\n",
            "    });\n",
            "   }, {threshold: 0.5});\n",
            "\n",
            "   statNumbers.forEach((stat) => {\n",
            "    countObserver.observe(stat);\n",
            "   });\n",
            "  </script>\n",
            " </body>\n",
            "</html\n"
          ]
        }
      ]
    },
    {
      "cell_type": "markdown",
      "source": [
        "#### Count Tokens Code HTML yang sudah digenerate"
      ],
      "metadata": {
        "id": "1ZhjGYgjgiCZ"
      }
    },
    {
      "cell_type": "code",
      "source": [
        "import tiktoken\n",
        "\n",
        "encoding = tiktoken.get_encoding(\"cl100k_base\")\n",
        "print(\"Token count:\", len(encoding.encode(code_generation_result)))"
      ],
      "metadata": {
        "id": "6vV2wHP4gc07",
        "colab": {
          "base_uri": "https://localhost:8080/"
        },
        "outputId": "70a6d4aa-f7bf-474c-d4df-5a76c73f3d6b"
      },
      "execution_count": 65,
      "outputs": [
        {
          "output_type": "stream",
          "name": "stdout",
          "text": [
            "Token count: 735\n"
          ]
        }
      ]
    },
    {
      "cell_type": "markdown",
      "source": [
        "## Tampilkan Hasil Refined Website yang digenerate IBM Granite"
      ],
      "metadata": {
        "id": "f6HJAf3Sgqqs"
      }
    },
    {
      "cell_type": "code",
      "execution_count": 66,
      "metadata": {
        "id": "BDOLL2Tl_4Fq",
        "colab": {
          "base_uri": "https://localhost:8080/",
          "height": 988
        },
        "outputId": "36c78f32-b3c2-4e33-8ac1-8795d8177c79"
      },
      "outputs": [
        {
          "output_type": "display_data",
          "data": {
            "text/plain": [
              "<IPython.core.display.HTML object>"
            ],
            "text/html": [
              "<!DOCTYPE html>\n",
              "<html lang=\"en\">\n",
              " <head>\n",
              "  <meta charset=\"UTF-8\"/>\n",
              "  <title>Hacktiv8</title>\n",
              "  <style>*{margin:0;padding:0}html,body{width:100%;height:100%;font-family:sans-serif;text-align:center;margin:0;padding:0}body{display:flex;flex-direction:column;min-height:100vh}header{background:#008080;color:#fff;padding:20px;display:flex;justify-content:space-between;align-items:center;font-size:24px}a{color:#fff;text-decoration:none;margin:0 10px;font-size:20px}.hero{background:#008080;color:#fff;padding:120px 20px;height:80px;display:flex;flex-direction:column;justify-content:center}.hero h1{font-size:48px;margin-bottom:15px}.hero p{font-size:22px;margin-bottom:20px}button{background:#ff6b6b;color:#fff;border:none;padding:15px 30px;margin-top:15px;border-radius:6px;font-size:18px;cursor:pointer}.svc{background:#f8f9fa;padding:80px 20px;height:100px;display:flex;justify-content:center;align-items:center;flex-direction:column;flex:1}.svc h2{font-size:36px;margin-bottom:40px}.card{display:inline-block;background:#fff;padding:30px;margin:15px;border-radius:8px;box-shadow:0 2px 6px #ccc;width:140px;font-size:18px}.stats{background:#333;color:#fff;padding:40px;height:20vh;display:flex;justify-content:center;align-items:center}.st{display:inline-block;color:#ff6b6b;margin:0 25px;font-size:24px;text-align:center}.st .number{font-size:32px;font-weight:bold;display:block;margin-bottom:5px}footer{background:#222;color:#fff;padding:20px;font-size:16px;display:flex;justify-content:center;align-items:center}</style>\n",
              " </head>\n",
              " <body>\n",
              "  <header>\n",
              "   <b>Hacktiv8</b>\n",
              "   <nav>\n",
              "    <a href=\"#\">Home</a>\n",
              "    <a href=\"#\">Services</a>\n",
              "    <a href=\"#\">About</a>\n",
              "    <a href=\"#\">Contact</a>\n",
              "   </nav>\n",
              "  </header>\n",
              "  <div class=\"hero\">\n",
              "   <h1>Indonesia's Finest Coding Bootcamp</h1>\n",
              "   <p>Transform Your Skills Today!</p>\n",
              "   <button>Enroll Now</button>\n",
              "  </div>\n",
              "  <div class=\"svc\">\n",
              "   <h2>Services</h2>\n",
              "   <div>\n",
              "    <div class=\"card\">💻<br/>Fullstack Engineer</div>\n",
              "    <div class=\"card\">📱<br/>iOS/Android Developer</div>\n",
              "    <div class=\"card\">☁️<br/>DevOps Engineer</div>\n",
              "   </div>\n",
              "  </div>\n",
              "  <div class=\"stats\">\n",
              "   <div class=\"st\"><span class=\"number\" data-target=\"500\">0</span>Students</div>\n",
              "   <div class=\"st\"><span class=\"number\" data-target=\"5\">0</span>Cities</div>\n",
              "   <div class=\"st\"><span class=\"number\" data-target=\"5\">0</span>Years</div>\n",
              "  </div>\n",
              "  <footer>©2024 Hacktiv8</footer>\n",
              "  <script>\n",
              "   const statNumbers = document.querySelectorAll('.number');\n",
              "   const countObserver = new IntersectionObserver((entries) => {\n",
              "    entries.forEach((entry) => {\n",
              "     if (entry.isIntersecting) {\n",
              "      const target = parseInt(entry.target.getAttribute('data-target'));\n",
              "      const increment = target / 50;\n",
              "      let current = 0;\n",
              "\n",
              "      const updateCounter = () => {\n",
              "       if (current < target) {\n",
              "        current += increment;\n",
              "        entry.target.textContent = Math.ceil(current);\n",
              "        requestAnimationFrame(updateCounter);\n",
              "       } else {\n",
              "        entry.target.textContent = target;\n",
              "       }\n",
              "      };\n",
              "\n",
              "      updateCounter();\n",
              "      countObserver.unobserve(entry.target);\n",
              "     }\n",
              "    });\n",
              "   }, {threshold: 0.5});\n",
              "\n",
              "   statNumbers.forEach((stat) => {\n",
              "    countObserver.observe(stat);\n",
              "   });\n",
              "  </script>\n",
              " </body>\n",
              "</html"
            ]
          },
          "metadata": {}
        }
      ],
      "source": [
        "from IPython.display import HTML, display\n",
        "\n",
        "display(HTML(code_generation_refined_result))"
      ]
    }
  ],
  "metadata": {
    "colab": {
      "provenance": [],
      "gpuType": "T4",
      "toc_visible": true
    },
    "kernelspec": {
      "display_name": "Python 3",
      "name": "python3"
    },
    "language_info": {
      "codemirror_mode": {
        "name": "ipython",
        "version": 3
      },
      "file_extension": ".py",
      "mimetype": "text/x-python",
      "name": "python",
      "nbconvert_exporter": "python",
      "pygments_lexer": "ipython3",
      "version": "3.10.11"
    },
    "accelerator": "GPU"
  },
  "nbformat": 4,
  "nbformat_minor": 0
}